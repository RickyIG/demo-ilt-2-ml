{
  "nbformat": 4,
  "nbformat_minor": 0,
  "metadata": {
    "colab": {
      "provenance": [],
      "authorship_tag": "ABX9TyOI/bJLB9L71T+6p2v0r8UJ",
      "include_colab_link": true
    },
    "kernelspec": {
      "name": "python3",
      "display_name": "Python 3"
    },
    "language_info": {
      "name": "python"
    }
  },
  "cells": [
    {
      "cell_type": "markdown",
      "metadata": {
        "id": "view-in-github",
        "colab_type": "text"
      },
      "source": [
        "<a href=\"https://colab.research.google.com/github/RickyIG/demo-ilt-2-ml/blob/main/Untitled49.ipynb\" target=\"_parent\"><img src=\"https://colab.research.google.com/assets/colab-badge.svg\" alt=\"Open In Colab\"/></a>"
      ]
    },
    {
      "cell_type": "code",
      "execution_count": 1,
      "metadata": {
        "colab": {
          "base_uri": "https://localhost:8080/",
          "height": 54
        },
        "id": "KnM4dqXfZRwG",
        "outputId": "ad639ff4-a590-4f36-b00a-db376a45777d"
      },
      "outputs": [
        {
          "output_type": "stream",
          "name": "stdout",
          "text": [
            "ML\n"
          ]
        },
        {
          "output_type": "execute_result",
          "data": {
            "text/plain": [
              "'Android'"
            ],
            "application/vnd.google.colaboratory.intrinsic+json": {
              "type": "string"
            }
          },
          "metadata": {},
          "execution_count": 1
        }
      ],
      "source": [
        "paths = ['ML', 'Cloud']\n",
        "\n",
        "print(paths[0])\n",
        "\n",
        "paths.append('Android')\n",
        "paths.remove('Cloud')\n",
        "paths.insert(1, 'Mobile')\n",
        "paths.pop(-1)"
      ]
    },
    {
      "cell_type": "code",
      "source": [
        "paths = ['ML', 'Cloud']\n",
        "\n",
        "print(paths[0])\n",
        "\n",
        "paths.append('Android')\n",
        "print(paths)\n",
        "paths.remove('Cloud')\n",
        "print(paths)\n",
        "paths.insert(1, 'Mobile')\n",
        "print(paths)\n",
        "paths.pop(-1)\n",
        "print(paths)"
      ],
      "metadata": {
        "colab": {
          "base_uri": "https://localhost:8080/"
        },
        "id": "iCVprqheZZ4K",
        "outputId": "da2fb341-8e14-4a7f-dc27-1cb9cc2509c1"
      },
      "execution_count": 2,
      "outputs": [
        {
          "output_type": "stream",
          "name": "stdout",
          "text": [
            "ML\n",
            "['ML', 'Cloud', 'Android']\n",
            "['ML', 'Android']\n",
            "['ML', 'Mobile', 'Android']\n",
            "['ML', 'Mobile']\n"
          ]
        }
      ]
    },
    {
      "cell_type": "code",
      "source": [],
      "metadata": {
        "id": "IWRiT5xPZk0n"
      },
      "execution_count": null,
      "outputs": []
    }
  ]
}